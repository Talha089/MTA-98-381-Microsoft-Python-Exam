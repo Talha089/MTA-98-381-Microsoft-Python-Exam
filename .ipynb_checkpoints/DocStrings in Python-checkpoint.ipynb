{
 "cells": [
  {
   "cell_type": "markdown",
   "metadata": {},
   "source": [
    "### One-line Docstrings"
   ]
  },
  {
   "cell_type": "markdown",
   "metadata": {},
   "source": [
    "The one-line Docstrings are the Docstrings which fits all in one line. You can use one of the quotes, i.e., triple single or triple double quotes and opening quotes and closing quotes need to be the same. In the one-line Docstrings, closing quotes are in the same line as with the opening quotes. Also, the standard convention is to use the triple-double quotes."
   ]
  },
  {
   "cell_type": "code",
   "execution_count": 3,
   "metadata": {},
   "outputs": [
    {
     "name": "stdout",
     "output_type": "stream",
     "text": [
      "Returns argument a is squared.\n",
      "Help on function square in module __main__:\n",
      "\n",
      "square(a)\n",
      "    Returns argument a is squared.\n",
      "\n"
     ]
    }
   ],
   "source": [
    "def square(a):\n",
    "    '''Returns argument a is squared.'''\n",
    "    \n",
    "    return a**a\n",
    "\n",
    "print(square.__doc__)\n",
    "\n",
    "help(square)"
   ]
  },
  {
   "cell_type": "markdown",
   "metadata": {},
   "source": [
    "### Multi-line Docstrings"
   ]
  },
  {
   "cell_type": "markdown",
   "metadata": {},
   "source": [
    "Multi-line Docstrings also contains the same string literals line as in One-line Docstrings, but it is followed by a single blank along with the descriptive text.\n",
    "\n",
    "The general format for writing a Multi-line Docstring is as follows:"
   ]
  },
  {
   "cell_type": "code",
   "execution_count": 4,
   "metadata": {},
   "outputs": [
    {
     "name": "stdout",
     "output_type": "stream",
     "text": [
      "Summary or Description of the Function\n",
      "\n",
      "    Parameters:\n",
      "    argument1 (int): Description of arg1\n",
      "\n",
      "    Returns:\n",
      "    int:Returning value\n",
      "\n",
      "   \n"
     ]
    }
   ],
   "source": [
    "def some_function(argument1):\n",
    "    \"\"\"Summary or Description of the Function\n",
    "\n",
    "    Parameters:\n",
    "    argument1 (int): Description of arg1\n",
    "\n",
    "    Returns:\n",
    "    int:Returning value\n",
    "\n",
    "   \"\"\"\n",
    "\n",
    "    return argument1\n",
    "\n",
    "print(some_function.__doc__)"
   ]
  },
  {
   "cell_type": "code",
   "execution_count": 5,
   "metadata": {},
   "outputs": [
    {
     "name": "stdout",
     "output_type": "stream",
     "text": [
      "085899lakjorp\n"
     ]
    }
   ],
   "source": [
    "def string_reverse(str1):\n",
    "    \"\"\" Returns the reversed String.\n",
    "\n",
    "    Parameters:\n",
    "        str1 (str):The string which is to be reversed.\n",
    "\n",
    "    Returns:\n",
    "        reverse(str1):The string which gets reversed.   \n",
    "\n",
    "    \"\"\"\n",
    "    reverse_str1 = ''\n",
    "    i = len(str1)\n",
    "    while i > 0:\n",
    "        reverse_str1 += str1[ i - 1 ]\n",
    "        i = i- 1\n",
    "    return reverse_str1\n",
    "print(string_reverse('projkal998580'))"
   ]
  },
  {
   "cell_type": "code",
   "execution_count": null,
   "metadata": {},
   "outputs": [],
   "source": []
  }
 ],
 "metadata": {
  "kernelspec": {
   "display_name": "Python 3",
   "language": "python",
   "name": "python3"
  },
  "language_info": {
   "codemirror_mode": {
    "name": "ipython",
    "version": 3
   },
   "file_extension": ".py",
   "mimetype": "text/x-python",
   "name": "python",
   "nbconvert_exporter": "python",
   "pygments_lexer": "ipython3",
   "version": "3.7.4"
  }
 },
 "nbformat": 4,
 "nbformat_minor": 2
}
